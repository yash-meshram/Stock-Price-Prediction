{
 "cells": [
  {
   "cell_type": "code",
   "execution_count": 1,
   "metadata": {
    "id": "qQoSJYzh53_i"
   },
   "outputs": [
    {
     "ename": "ModuleNotFoundError",
     "evalue": "No module named 'keras'",
     "output_type": "error",
     "traceback": [
      "\u001b[1;31m---------------------------------------------------------------------------\u001b[0m",
      "\u001b[1;31mModuleNotFoundError\u001b[0m                       Traceback (most recent call last)",
      "\u001b[1;32m<ipython-input-1-ae4358feb808>\u001b[0m in \u001b[0;36m<module>\u001b[1;34m\u001b[0m\n\u001b[0;32m      6\u001b[0m \u001b[1;32mimport\u001b[0m \u001b[0mmatplotlib\u001b[0m\u001b[1;33m.\u001b[0m\u001b[0mpyplot\u001b[0m \u001b[1;32mas\u001b[0m \u001b[0mplt\u001b[0m\u001b[1;33m\u001b[0m\u001b[1;33m\u001b[0m\u001b[0m\n\u001b[0;32m      7\u001b[0m \u001b[1;32mfrom\u001b[0m \u001b[0msklearn\u001b[0m\u001b[1;33m.\u001b[0m\u001b[0mpreprocessing\u001b[0m \u001b[1;32mimport\u001b[0m \u001b[0mMinMaxScaler\u001b[0m\u001b[1;33m\u001b[0m\u001b[1;33m\u001b[0m\u001b[0m\n\u001b[1;32m----> 8\u001b[1;33m \u001b[1;32mfrom\u001b[0m \u001b[0mkeras\u001b[0m\u001b[1;33m.\u001b[0m\u001b[0mmodels\u001b[0m \u001b[1;32mimport\u001b[0m \u001b[0mSequential\u001b[0m\u001b[1;33m\u001b[0m\u001b[1;33m\u001b[0m\u001b[0m\n\u001b[0m\u001b[0;32m      9\u001b[0m \u001b[1;32mfrom\u001b[0m \u001b[0mkeras\u001b[0m\u001b[1;33m.\u001b[0m\u001b[0mlayers\u001b[0m \u001b[1;32mimport\u001b[0m \u001b[0mDense\u001b[0m\u001b[1;33m,\u001b[0m \u001b[0mLSTM\u001b[0m\u001b[1;33m\u001b[0m\u001b[1;33m\u001b[0m\u001b[0m\n",
      "\u001b[1;31mModuleNotFoundError\u001b[0m: No module named 'keras'"
     ]
    }
   ],
   "source": [
    "# importing libraries\n",
    "import math\n",
    "import numpy as np\n",
    "import pandas as pd\n",
    "import pandas_datareader as web\n",
    "import matplotlib.pyplot as plt\n",
    "from sklearn.preprocessing import MinMaxScaler\n",
    "from keras.models import Sequential\n",
    "from keras.layers import Dense, LSTM"
   ]
  },
  {
   "cell_type": "code",
   "execution_count": 76,
   "metadata": {
    "colab": {
     "base_uri": "https://localhost:8080/",
     "height": 450
    },
    "id": "qlXVUNaH6687",
    "outputId": "cea09f31-8799-4fe5-e878-ab885be67711"
   },
   "outputs": [
    {
     "data": {
      "text/html": [
       "<div>\n",
       "<style scoped>\n",
       "    .dataframe tbody tr th:only-of-type {\n",
       "        vertical-align: middle;\n",
       "    }\n",
       "\n",
       "    .dataframe tbody tr th {\n",
       "        vertical-align: top;\n",
       "    }\n",
       "\n",
       "    .dataframe thead th {\n",
       "        text-align: right;\n",
       "    }\n",
       "</style>\n",
       "<table border=\"1\" class=\"dataframe\">\n",
       "  <thead>\n",
       "    <tr style=\"text-align: right;\">\n",
       "      <th></th>\n",
       "      <th>High</th>\n",
       "      <th>Low</th>\n",
       "      <th>Open</th>\n",
       "      <th>Close</th>\n",
       "      <th>Volume</th>\n",
       "      <th>Adj Close</th>\n",
       "    </tr>\n",
       "    <tr>\n",
       "      <th>Date</th>\n",
       "      <th></th>\n",
       "      <th></th>\n",
       "      <th></th>\n",
       "      <th></th>\n",
       "      <th></th>\n",
       "      <th></th>\n",
       "    </tr>\n",
       "  </thead>\n",
       "  <tbody>\n",
       "    <tr>\n",
       "      <th>2011-01-03</th>\n",
       "      <td>11.795000</td>\n",
       "      <td>11.601429</td>\n",
       "      <td>11.630000</td>\n",
       "      <td>11.770357</td>\n",
       "      <td>445138400.0</td>\n",
       "      <td>10.138556</td>\n",
       "    </tr>\n",
       "    <tr>\n",
       "      <th>2011-01-04</th>\n",
       "      <td>11.875000</td>\n",
       "      <td>11.719643</td>\n",
       "      <td>11.872857</td>\n",
       "      <td>11.831786</td>\n",
       "      <td>309080800.0</td>\n",
       "      <td>10.191467</td>\n",
       "    </tr>\n",
       "    <tr>\n",
       "      <th>2011-01-05</th>\n",
       "      <td>11.940714</td>\n",
       "      <td>11.767857</td>\n",
       "      <td>11.769643</td>\n",
       "      <td>11.928571</td>\n",
       "      <td>255519600.0</td>\n",
       "      <td>10.274836</td>\n",
       "    </tr>\n",
       "    <tr>\n",
       "      <th>2011-01-06</th>\n",
       "      <td>11.973214</td>\n",
       "      <td>11.889286</td>\n",
       "      <td>11.954286</td>\n",
       "      <td>11.918929</td>\n",
       "      <td>300428800.0</td>\n",
       "      <td>10.266529</td>\n",
       "    </tr>\n",
       "    <tr>\n",
       "      <th>2011-01-07</th>\n",
       "      <td>12.012500</td>\n",
       "      <td>11.853571</td>\n",
       "      <td>11.928214</td>\n",
       "      <td>12.004286</td>\n",
       "      <td>311931200.0</td>\n",
       "      <td>10.340052</td>\n",
       "    </tr>\n",
       "    <tr>\n",
       "      <th>...</th>\n",
       "      <td>...</td>\n",
       "      <td>...</td>\n",
       "      <td>...</td>\n",
       "      <td>...</td>\n",
       "      <td>...</td>\n",
       "      <td>...</td>\n",
       "    </tr>\n",
       "    <tr>\n",
       "      <th>2021-04-09</th>\n",
       "      <td>133.039993</td>\n",
       "      <td>129.470001</td>\n",
       "      <td>129.800003</td>\n",
       "      <td>133.000000</td>\n",
       "      <td>106513800.0</td>\n",
       "      <td>133.000000</td>\n",
       "    </tr>\n",
       "    <tr>\n",
       "      <th>2021-04-12</th>\n",
       "      <td>132.850006</td>\n",
       "      <td>130.630005</td>\n",
       "      <td>132.520004</td>\n",
       "      <td>131.240005</td>\n",
       "      <td>91420000.0</td>\n",
       "      <td>131.240005</td>\n",
       "    </tr>\n",
       "    <tr>\n",
       "      <th>2021-04-13</th>\n",
       "      <td>134.660004</td>\n",
       "      <td>131.929993</td>\n",
       "      <td>132.440002</td>\n",
       "      <td>134.429993</td>\n",
       "      <td>91266500.0</td>\n",
       "      <td>134.429993</td>\n",
       "    </tr>\n",
       "    <tr>\n",
       "      <th>2021-04-14</th>\n",
       "      <td>135.000000</td>\n",
       "      <td>131.660004</td>\n",
       "      <td>134.940002</td>\n",
       "      <td>132.029999</td>\n",
       "      <td>87222800.0</td>\n",
       "      <td>132.029999</td>\n",
       "    </tr>\n",
       "    <tr>\n",
       "      <th>2021-04-15</th>\n",
       "      <td>135.000000</td>\n",
       "      <td>133.639999</td>\n",
       "      <td>133.820007</td>\n",
       "      <td>134.500000</td>\n",
       "      <td>89260600.0</td>\n",
       "      <td>134.500000</td>\n",
       "    </tr>\n",
       "  </tbody>\n",
       "</table>\n",
       "<p>2588 rows × 6 columns</p>\n",
       "</div>"
      ],
      "text/plain": [
       "                  High         Low  ...       Volume   Adj Close\n",
       "Date                                ...                         \n",
       "2011-01-03   11.795000   11.601429  ...  445138400.0   10.138556\n",
       "2011-01-04   11.875000   11.719643  ...  309080800.0   10.191467\n",
       "2011-01-05   11.940714   11.767857  ...  255519600.0   10.274836\n",
       "2011-01-06   11.973214   11.889286  ...  300428800.0   10.266529\n",
       "2011-01-07   12.012500   11.853571  ...  311931200.0   10.340052\n",
       "...                ...         ...  ...          ...         ...\n",
       "2021-04-09  133.039993  129.470001  ...  106513800.0  133.000000\n",
       "2021-04-12  132.850006  130.630005  ...   91420000.0  131.240005\n",
       "2021-04-13  134.660004  131.929993  ...   91266500.0  134.429993\n",
       "2021-04-14  135.000000  131.660004  ...   87222800.0  132.029999\n",
       "2021-04-15  135.000000  133.639999  ...   89260600.0  134.500000\n",
       "\n",
       "[2588 rows x 6 columns]"
      ]
     },
     "execution_count": 76,
     "metadata": {
      "tags": []
     },
     "output_type": "execute_result"
    }
   ],
   "source": [
    "# Getting data\n",
    "df = web.DataReader('AAPL', data_source='yahoo', start='2011-01-01', end='2021-4-15')\n",
    "df"
   ]
  },
  {
   "cell_type": "code",
   "execution_count": 77,
   "metadata": {
    "colab": {
     "base_uri": "https://localhost:8080/"
    },
    "id": "OfQe-X6t7rLP",
    "outputId": "b1306660-fc7e-42e0-923d-fdeb5f725920"
   },
   "outputs": [
    {
     "data": {
      "text/plain": [
       "(2588, 6)"
      ]
     },
     "execution_count": 77,
     "metadata": {
      "tags": []
     },
     "output_type": "execute_result"
    }
   ],
   "source": [
    "#Shape of data\n",
    "df.shape"
   ]
  },
  {
   "cell_type": "code",
   "execution_count": 78,
   "metadata": {
    "colab": {
     "base_uri": "https://localhost:8080/",
     "height": 525
    },
    "id": "X2GxR8cT7xTd",
    "outputId": "f91aaac6-96e7-41ff-d223-13216decac92"
   },
   "outputs": [
    {
     "data": {
      "image/png": "[encoded data removed]",
      "text/plain": [
       "<Figure size 1152x576 with 1 Axes>"
      ]
     },
     "metadata": {
      "needs_background": "light",
      "tags": []
     },
     "output_type": "display_data"
    }
   ],
   "source": [
    "# Visualizing the closing prise\n",
    "plt.figure(figsize=(16,8))\n",
    "plt.plot(df['Close'])\n",
    "plt.xlabel(\"Date\", fontsize = 18)\n",
    "plt.ylabel(\"Closing Price\", fontsize = 18)\n",
    "plt.title(\"Past Closing Prices\", fontsize = 18)\n",
    "plt.grid(True)"
   ]
  },
  {
   "cell_type": "code",
   "execution_count": 79,
   "metadata": {
    "colab": {
     "base_uri": "https://localhost:8080/",
     "height": 450
    },
    "id": "A2DQo3L78PBf",
    "outputId": "dd62207e-71b0-4a6c-b49e-7aee6e6feb7a"
   },
   "outputs": [
    {
     "data": {
      "text/html": [
       "<div>\n",
       "<style scoped>\n",
       "    .dataframe tbody tr th:only-of-type {\n",
       "        vertical-align: middle;\n",
       "    }\n",
       "\n",
       "    .dataframe tbody tr th {\n",
       "        vertical-align: top;\n",
       "    }\n",
       "\n",
       "    .dataframe thead th {\n",
       "        text-align: right;\n",
       "    }\n",
       "</style>\n",
       "<table border=\"1\" class=\"dataframe\">\n",
       "  <thead>\n",
       "    <tr style=\"text-align: right;\">\n",
       "      <th></th>\n",
       "      <th>Close</th>\n",
       "    </tr>\n",
       "    <tr>\n",
       "      <th>Date</th>\n",
       "      <th></th>\n",
       "    </tr>\n",
       "  </thead>\n",
       "  <tbody>\n",
       "    <tr>\n",
       "      <th>2011-01-03</th>\n",
       "      <td>11.770357</td>\n",
       "    </tr>\n",
       "    <tr>\n",
       "      <th>2011-01-04</th>\n",
       "      <td>11.831786</td>\n",
       "    </tr>\n",
       "    <tr>\n",
       "      <th>2011-01-05</th>\n",
       "      <td>11.928571</td>\n",
       "    </tr>\n",
       "    <tr>\n",
       "      <th>2011-01-06</th>\n",
       "      <td>11.918929</td>\n",
       "    </tr>\n",
       "    <tr>\n",
       "      <th>2011-01-07</th>\n",
       "      <td>12.004286</td>\n",
       "    </tr>\n",
       "    <tr>\n",
       "      <th>...</th>\n",
       "      <td>...</td>\n",
       "    </tr>\n",
       "    <tr>\n",
       "      <th>2021-04-09</th>\n",
       "      <td>133.000000</td>\n",
       "    </tr>\n",
       "    <tr>\n",
       "      <th>2021-04-12</th>\n",
       "      <td>131.240005</td>\n",
       "    </tr>\n",
       "    <tr>\n",
       "      <th>2021-04-13</th>\n",
       "      <td>134.429993</td>\n",
       "    </tr>\n",
       "    <tr>\n",
       "      <th>2021-04-14</th>\n",
       "      <td>132.029999</td>\n",
       "    </tr>\n",
       "    <tr>\n",
       "      <th>2021-04-15</th>\n",
       "      <td>134.500000</td>\n",
       "    </tr>\n",
       "  </tbody>\n",
       "</table>\n",
       "<p>2588 rows × 1 columns</p>\n",
       "</div>"
      ],
      "text/plain": [
       "                 Close\n",
       "Date                  \n",
       "2011-01-03   11.770357\n",
       "2011-01-04   11.831786\n",
       "2011-01-05   11.928571\n",
       "2011-01-06   11.918929\n",
       "2011-01-07   12.004286\n",
       "...                ...\n",
       "2021-04-09  133.000000\n",
       "2021-04-12  131.240005\n",
       "2021-04-13  134.429993\n",
       "2021-04-14  132.029999\n",
       "2021-04-15  134.500000\n",
       "\n",
       "[2588 rows x 1 columns]"
      ]
     },
     "execution_count": 79,
     "metadata": {
      "tags": []
     },
     "output_type": "execute_result"
    }
   ],
   "source": [
    "# create a new df with only close price\n",
    "data = df.filter(['Close'])\n",
    "data"
   ]
  },
  {
   "cell_type": "code",
   "execution_count": 80,
   "metadata": {
    "colab": {
     "base_uri": "https://localhost:8080/"
    },
    "id": "y5-oeRbz-sTR",
    "outputId": "042cbbcd-e5e5-41c3-8115-365632f6de5b"
   },
   "outputs": [
    {
     "data": {
      "text/plain": [
       "array([[ 11.77035713],\n",
       "       [ 11.83178616],\n",
       "       [ 11.92857075],\n",
       "       ...,\n",
       "       [134.42999268],\n",
       "       [132.02999878],\n",
       "       [134.5       ]])"
      ]
     },
     "execution_count": 80,
     "metadata": {
      "tags": []
     },
     "output_type": "execute_result"
    }
   ],
   "source": [
    "# convert this data into numpy array\n",
    "# p = np.array(data)\n",
    "# p\n",
    "\n",
    "dataset = data.values\n",
    "dataset"
   ]
  },
  {
   "cell_type": "code",
   "execution_count": 81,
   "metadata": {
    "colab": {
     "base_uri": "https://localhost:8080/"
    },
    "id": "tCOBXVYE-4IN",
    "outputId": "96df1833-3775-47f7-a584-fe1142ab3c26"
   },
   "outputs": [
    {
     "data": {
      "text/plain": [
       "2071"
      ]
     },
     "execution_count": 81,
     "metadata": {
      "tags": []
     },
     "output_type": "execute_result"
    }
   ],
   "source": [
    "# number of training data\n",
    "training_data_len = math.ceil(len(dataset)*0.8)      # 80 % training data\n",
    "training_data_len"
   ]
  },
  {
   "cell_type": "code",
   "execution_count": 82,
   "metadata": {
    "colab": {
     "base_uri": "https://localhost:8080/"
    },
    "id": "BYXMyGjR_esz",
    "outputId": "69bdf1d6-9e2e-43aa-c799-fb1625220ed9"
   },
   "outputs": [
    {
     "data": {
      "text/plain": [
       "array([[0.00385848],\n",
       "       [0.00432421],\n",
       "       [0.00505799],\n",
       "       ...,\n",
       "       [0.9338127 ],\n",
       "       [0.91561694],\n",
       "       [0.93434346]])"
      ]
     },
     "execution_count": 82,
     "metadata": {
      "tags": []
     },
     "output_type": "execute_result"
    }
   ],
   "source": [
    "# Scale the data between 0 and 1\n",
    "scaler = MinMaxScaler(feature_range=(0,1))\n",
    "scaled_data = scaler.fit_transform(dataset)\n",
    "scaled_data"
   ]
  },
  {
   "cell_type": "code",
   "execution_count": 83,
   "metadata": {
    "colab": {
     "base_uri": "https://localhost:8080/"
    },
    "id": "DfVMxYZf_4fL",
    "outputId": "4053b213-c985-4cdc-ab1c-ddf1b89d893f"
   },
   "outputs": [
    {
     "data": {
      "text/plain": [
       "array([[0.00385848],\n",
       "       [0.00432421],\n",
       "       [0.00505799],\n",
       "       ...,\n",
       "       [0.27235755],\n",
       "       [0.2686615 ],\n",
       "       [0.27184578]])"
      ]
     },
     "execution_count": 83,
     "metadata": {
      "tags": []
     },
     "output_type": "execute_result"
    }
   ],
   "source": [
    "# create a training dataset\n",
    "train_data = scaled_data[0:training_data_len, :]\n",
    "train_data"
   ]
  },
  {
   "cell_type": "code",
   "execution_count": 84,
   "metadata": {
    "colab": {
     "base_uri": "https://localhost:8080/"
    },
    "id": "QEHERYlbBgGq",
    "outputId": "29a2b2c8-2c16-4e0c-9d87-08450a21c276"
   },
   "outputs": [
    {
     "name": "stdout",
     "output_type": "stream",
     "text": [
      "[array([0.00385848, 0.00432421, 0.00505799, 0.00498489, 0.00563203,\n",
      "       0.00734601, 0.00712669, 0.00787942, 0.0082206 , 0.00897876,\n",
      "       0.00685862, 0.00636853, 0.00470058, 0.00308679, 0.00599216,\n",
      "       0.0070617 , 0.00772509, 0.00755179, 0.00562661, 0.0064985 ,\n",
      "       0.0080446 , 0.00785235, 0.00761407, 0.00844263, 0.00989938,\n",
      "       0.01079833, 0.01159982, 0.01061963, 0.01124511, 0.01187601,\n",
      "       0.01207096, 0.01294556, 0.01163773, 0.00954197, 0.00630625,\n",
      "       0.00739205, 0.00746244, 0.00889211, 0.01025951, 0.0092035 ,\n",
      "       0.00996436, 0.0119789 , 0.01209804, 0.01084167, 0.01094997,\n",
      "       0.01005913, 0.00848866, 0.00992916, 0.01035427, 0.00815291,\n",
      "       0.00397762, 0.0052313 , 0.00415633, 0.00649308, 0.00700754,\n",
      "       0.0064633 , 0.00802835, 0.00980732, 0.00950946, 0.00965027])]\n",
      "[0.00901936926957736]\n",
      "\n",
      "[array([0.00385848, 0.00432421, 0.00505799, 0.00498489, 0.00563203,\n",
      "       0.00734601, 0.00712669, 0.00787942, 0.0082206 , 0.00897876,\n",
      "       0.00685862, 0.00636853, 0.00470058, 0.00308679, 0.00599216,\n",
      "       0.0070617 , 0.00772509, 0.00755179, 0.00562661, 0.0064985 ,\n",
      "       0.0080446 , 0.00785235, 0.00761407, 0.00844263, 0.00989938,\n",
      "       0.01079833, 0.01159982, 0.01061963, 0.01124511, 0.01187601,\n",
      "       0.01207096, 0.01294556, 0.01163773, 0.00954197, 0.00630625,\n",
      "       0.00739205, 0.00746244, 0.00889211, 0.01025951, 0.0092035 ,\n",
      "       0.00996436, 0.0119789 , 0.01209804, 0.01084167, 0.01094997,\n",
      "       0.01005913, 0.00848866, 0.00992916, 0.01035427, 0.00815291,\n",
      "       0.00397762, 0.0052313 , 0.00415633, 0.00649308, 0.00700754,\n",
      "       0.0064633 , 0.00802835, 0.00980732, 0.00950946, 0.00965027]), array([0.00432421, 0.00505799, 0.00498489, 0.00563203, 0.00734601,\n",
      "       0.00712669, 0.00787942, 0.0082206 , 0.00897876, 0.00685862,\n",
      "       0.00636853, 0.00470058, 0.00308679, 0.00599216, 0.0070617 ,\n",
      "       0.00772509, 0.00755179, 0.00562661, 0.0064985 , 0.0080446 ,\n",
      "       0.00785235, 0.00761407, 0.00844263, 0.00989938, 0.01079833,\n",
      "       0.01159982, 0.01061963, 0.01124511, 0.01187601, 0.01207096,\n",
      "       0.01294556, 0.01163773, 0.00954197, 0.00630625, 0.00739205,\n",
      "       0.00746244, 0.00889211, 0.01025951, 0.0092035 , 0.00996436,\n",
      "       0.0119789 , 0.01209804, 0.01084167, 0.01094997, 0.01005913,\n",
      "       0.00848866, 0.00992916, 0.01035427, 0.00815291, 0.00397762,\n",
      "       0.0052313 , 0.00415633, 0.00649308, 0.00700754, 0.0064633 ,\n",
      "       0.00802835, 0.00980732, 0.00950946, 0.00965027, 0.00901937])]\n",
      "[0.00901936926957736, 0.008986883257433825]\n",
      "\n"
     ]
    }
   ],
   "source": [
    "# make x_train and y_train\n",
    "x_train = []\n",
    "y_train = []\n",
    "\n",
    "for i in range(60, len(train_data)):\n",
    "  x_train.append(train_data[i-60:i, 0])\n",
    "  y_train.append(train_data[i,0])\n",
    "  if i <= 61:\n",
    "    print(x_train)\n",
    "    print(y_train)\n",
    "    print()"
   ]
  },
  {
   "cell_type": "code",
   "execution_count": 85,
   "metadata": {
    "id": "wbibr94sC-F1"
   },
   "outputs": [],
   "source": [
    "x_train, y_train = np.array(x_train), np.array(y_train)"
   ]
  },
  {
   "cell_type": "code",
   "execution_count": 86,
   "metadata": {
    "colab": {
     "base_uri": "https://localhost:8080/"
    },
    "id": "nImodrRrF6h2",
    "outputId": "4cb6445a-d67d-4b6c-94b6-ecdd537626ab"
   },
   "outputs": [
    {
     "data": {
      "text/plain": [
       "(array([[0.00385848, 0.00432421, 0.00505799, ..., 0.00980732, 0.00950946,\n",
       "         0.00965027],\n",
       "        [0.00432421, 0.00505799, 0.00498489, ..., 0.00950946, 0.00965027,\n",
       "         0.00901937],\n",
       "        [0.00505799, 0.00498489, 0.00563203, ..., 0.00965027, 0.00901937,\n",
       "         0.00898688],\n",
       "        ...,\n",
       "        [0.21251989, 0.21058658, 0.21073821, ..., 0.27125822, 0.28439329,\n",
       "         0.27673591],\n",
       "        [0.21058658, 0.21073821, 0.21360028, ..., 0.28439329, 0.27673591,\n",
       "         0.27235755],\n",
       "        [0.21073821, 0.21360028, 0.21394144, ..., 0.27673591, 0.27235755,\n",
       "         0.2686615 ]]),\n",
       " array([0.00901937, 0.00898688, 0.00791733, ..., 0.27235755, 0.2686615 ,\n",
       "        0.27184578]))"
      ]
     },
     "execution_count": 86,
     "metadata": {
      "tags": []
     },
     "output_type": "execute_result"
    }
   ],
   "source": [
    "x_train, y_train"
   ]
  },
  {
   "cell_type": "code",
   "execution_count": 87,
   "metadata": {
    "colab": {
     "base_uri": "https://localhost:8080/"
    },
    "id": "mQtX58rbGZ_p",
    "outputId": "4720c791-b901-42ca-9ed7-aa80efe43dbd"
   },
   "outputs": [
    {
     "data": {
      "text/plain": [
       "((2011, 60), (2011,))"
      ]
     },
     "execution_count": 87,
     "metadata": {
      "tags": []
     },
     "output_type": "execute_result"
    }
   ],
   "source": [
    "x_train.shape , y_train.shape"
   ]
  },
  {
   "cell_type": "code",
   "execution_count": 88,
   "metadata": {
    "colab": {
     "base_uri": "https://localhost:8080/"
    },
    "id": "1EZa8OyJSShs",
    "outputId": "c4f77fbf-ad51-433f-a65e-9d48e38b1c92"
   },
   "outputs": [
    {
     "data": {
      "text/plain": [
       "(2011, 60, 1)"
      ]
     },
     "execution_count": 88,
     "metadata": {
      "tags": []
     },
     "output_type": "execute_result"
    }
   ],
   "source": [
    "#LSTM requires the 3-D data(no. of samples, no. of times space, no. of features) and our data is 2-D\n",
    "# So we have to reshape it\n",
    "# x_train = np.reshape(x_train, (1543, 60, 1))\n",
    "x_train = np.reshape(x_train, (x_train.shape[0], x_train.shape[1], 1))\n",
    "x_train.shape"
   ]
  },
  {
   "cell_type": "code",
   "execution_count": 89,
   "metadata": {
    "id": "dNsy-Di3UNHV"
   },
   "outputs": [],
   "source": [
    "# Build LSTM model\n",
    "model = Sequential()\n",
    "model.add(LSTM(60, return_sequences=True, input_shape= (x_train.shape[1], 1)))\n",
    "model.add(LSTM(30, return_sequences=False))\n",
    "model.add(Dense(15))\n",
    "model.add(Dense(1))"
   ]
  },
  {
   "cell_type": "code",
   "execution_count": 90,
   "metadata": {
    "id": "sUPOgY4jVidn"
   },
   "outputs": [],
   "source": [
    "# Compile the model\n",
    "model.compile(optimizer='adam', loss='mean_squared_error')"
   ]
  },
  {
   "cell_type": "code",
   "execution_count": 91,
   "metadata": {
    "colab": {
     "base_uri": "https://localhost:8080/"
    },
    "id": "AGzpFkpzWZii",
    "outputId": "b10c93f5-76f5-43d3-d97d-9c54e9310137"
   },
   "outputs": [
    {
     "name": "stdout",
     "output_type": "stream",
     "text": [
      "2011/2011 [==============================] - 49s 23ms/step - loss: 3.6518e-04\n"
     ]
    },
    {
     "data": {
      "text/plain": [
       "<tensorflow.python.keras.callbacks.History at 0x7fb095088890>"
      ]
     },
     "execution_count": 91,
     "metadata": {
      "tags": []
     },
     "output_type": "execute_result"
    }
   ],
   "source": [
    "# train the model\n",
    "model.fit(x_train, y_train, batch_size=1, epochs=1)"
   ]
  },
  {
   "cell_type": "code",
   "execution_count": 92,
   "metadata": {
    "id": "rETaalxaW4mQ"
   },
   "outputs": [],
   "source": [
    "# create a test data\n",
    "# create a array containing the scaler values fro 1543 to 2003\n",
    "test_data = scaled_data[training_data_len-60: , :]\n",
    "#create x_test and y_test\n",
    "x_test = []\n",
    "y_test = dataset[training_data_len:, :]\n",
    "for i in range(60, len(test_data)):\n",
    "  x_test.append(test_data[i-60:i, 0])"
   ]
  },
  {
   "cell_type": "code",
   "execution_count": 93,
   "metadata": {
    "id": "d9FA62U0gUmf"
   },
   "outputs": [],
   "source": [
    "# convert the data into numpy array\n",
    "x_test = np.array(x_test)"
   ]
  },
  {
   "cell_type": "code",
   "execution_count": 94,
   "metadata": {
    "colab": {
     "base_uri": "https://localhost:8080/"
    },
    "id": "jkRcfuZPhZ9P",
    "outputId": "9b3f791e-1b36-486e-c7f5-d9caf73e910a"
   },
   "outputs": [
    {
     "data": {
      "text/plain": [
       "((517, 60), (517, 1))"
      ]
     },
     "execution_count": 94,
     "metadata": {
      "tags": []
     },
     "output_type": "execute_result"
    }
   ],
   "source": [
    "x_test.shape, y_test.shape"
   ]
  },
  {
   "cell_type": "code",
   "execution_count": 95,
   "metadata": {
    "colab": {
     "base_uri": "https://localhost:8080/"
    },
    "id": "xlcwcTeRhuDZ",
    "outputId": "23cf89ab-c7e4-4d6c-8216-907d3632b1e2"
   },
   "outputs": [
    {
     "data": {
      "text/plain": [
       "(517, 60, 1)"
      ]
     },
     "execution_count": 95,
     "metadata": {
      "tags": []
     },
     "output_type": "execute_result"
    }
   ],
   "source": [
    "# reshaping the data since LSTM requires 3-D data not 2-D\n",
    "x_test = np.reshape(x_test, (x_test.shape[0], x_test.shape[1], 1))\n",
    "x_test.shape"
   ]
  },
  {
   "cell_type": "code",
   "execution_count": 96,
   "metadata": {
    "id": "2tQ3vnxGh7FO"
   },
   "outputs": [],
   "source": [
    "# predict the closed price\n",
    "predictions = model.predict(x_test)\n",
    "# unscale the values\n",
    "predictions = scaler.inverse_transform(predictions)"
   ]
  },
  {
   "cell_type": "code",
   "execution_count": 97,
   "metadata": {
    "colab": {
     "base_uri": "https://localhost:8080/"
    },
    "id": "YTt2SS4fizZz",
    "outputId": "96fd8e2d-bdda-48bb-b8a4-5b4d768e0420"
   },
   "outputs": [
    {
     "data": {
      "text/plain": [
       "0.25849685078663337"
      ]
     },
     "execution_count": 97,
     "metadata": {
      "tags": []
     },
     "output_type": "execute_result"
    }
   ],
   "source": [
    "#evaluating the model (testing the model)\n",
    "# we can test by finding root mean squared error (RMSE)\n",
    "rmse = np.sqrt( np.mean( predictions - y_test )**2 )\n",
    "rmse"
   ]
  },
  {
   "cell_type": "code",
   "execution_count": 98,
   "metadata": {
    "colab": {
     "base_uri": "https://localhost:8080/",
     "height": 623
    },
    "id": "1m83h4EGj4O9",
    "outputId": "82a51744-1276-4fa9-ec4c-948357b6ce49"
   },
   "outputs": [
    {
     "name": "stderr",
     "output_type": "stream",
     "text": [
      "/usr/local/lib/python3.7/dist-packages/ipykernel_launcher.py:4: SettingWithCopyWarning: \n",
      "A value is trying to be set on a copy of a slice from a DataFrame.\n",
      "Try using .loc[row_indexer,col_indexer] = value instead\n",
      "\n",
      "See the caveats in the documentation: https://pandas.pydata.org/pandas-docs/stable/user_guide/indexing.html#returning-a-view-versus-a-copy\n",
      "  after removing the cwd from sys.path.\n"
     ]
    },
    {
     "data": {
      "image/png": "[encoded data removed]",
      "text/plain": [
       "<Figure size 1152x576 with 1 Axes>"
      ]
     },
     "metadata": {
      "needs_background": "light",
      "tags": []
     },
     "output_type": "display_data"
    }
   ],
   "source": [
    "#plot the data\n",
    "train = data[:training_data_len]\n",
    "valid = data[training_data_len:]\n",
    "valid['Predictions'] = predictions\n",
    "\n",
    "plt.figure(figsize = (16,8))\n",
    "plt.title(\"Model\")\n",
    "plt.xlabel(\"Date\", fontsize=18)\n",
    "plt.ylabel(\"Close Price\", fontsize=18)\n",
    "plt.plot(train['Close'])\n",
    "plt.plot(valid[['Close', 'Predictions']])\n",
    "plt.legend(['Train', 'Val', 'Predictions'], loc = 'upper left')\n",
    "plt.grid(True)\n",
    "plt.show()"
   ]
  },
  {
   "cell_type": "code",
   "execution_count": 99,
   "metadata": {
    "colab": {
     "base_uri": "https://localhost:8080/"
    },
    "id": "mRzOCWpen82U",
    "outputId": "7b797aaf-2016-4b34-90f0-ffaa69a26377"
   },
   "outputs": [
    {
     "data": {
      "text/plain": [
       "9.602721411865506"
      ]
     },
     "execution_count": 99,
     "metadata": {
      "tags": []
     },
     "output_type": "execute_result"
    }
   ],
   "source": [
    "import sklearn\n",
    "from sklearn.metrics import mean_squared_error\n",
    "mean_squared_error(y_test, predictions)"
   ]
  },
  {
   "cell_type": "code",
   "execution_count": 100,
   "metadata": {
    "colab": {
     "base_uri": "https://localhost:8080/",
     "height": 450
    },
    "id": "RaQVtLTnms5y",
    "outputId": "6b8e6b04-49d5-4518-ddba-4ddbcd287e66"
   },
   "outputs": [
    {
     "data": {
      "text/html": [
       "<div>\n",
       "<style scoped>\n",
       "    .dataframe tbody tr th:only-of-type {\n",
       "        vertical-align: middle;\n",
       "    }\n",
       "\n",
       "    .dataframe tbody tr th {\n",
       "        vertical-align: top;\n",
       "    }\n",
       "\n",
       "    .dataframe thead th {\n",
       "        text-align: right;\n",
       "    }\n",
       "</style>\n",
       "<table border=\"1\" class=\"dataframe\">\n",
       "  <thead>\n",
       "    <tr style=\"text-align: right;\">\n",
       "      <th></th>\n",
       "      <th>Close</th>\n",
       "      <th>Predictions</th>\n",
       "    </tr>\n",
       "    <tr>\n",
       "      <th>Date</th>\n",
       "      <th></th>\n",
       "      <th></th>\n",
       "    </tr>\n",
       "  </thead>\n",
       "  <tbody>\n",
       "    <tr>\n",
       "      <th>2019-03-28</th>\n",
       "      <td>47.180000</td>\n",
       "      <td>48.706352</td>\n",
       "    </tr>\n",
       "    <tr>\n",
       "      <th>2019-03-29</th>\n",
       "      <td>47.487499</td>\n",
       "      <td>48.660744</td>\n",
       "    </tr>\n",
       "    <tr>\n",
       "      <th>2019-04-01</th>\n",
       "      <td>47.810001</td>\n",
       "      <td>48.649662</td>\n",
       "    </tr>\n",
       "    <tr>\n",
       "      <th>2019-04-02</th>\n",
       "      <td>48.505001</td>\n",
       "      <td>48.699337</td>\n",
       "    </tr>\n",
       "    <tr>\n",
       "      <th>2019-04-03</th>\n",
       "      <td>48.837502</td>\n",
       "      <td>48.864986</td>\n",
       "    </tr>\n",
       "    <tr>\n",
       "      <th>...</th>\n",
       "      <td>...</td>\n",
       "      <td>...</td>\n",
       "    </tr>\n",
       "    <tr>\n",
       "      <th>2021-04-09</th>\n",
       "      <td>133.000000</td>\n",
       "      <td>125.411545</td>\n",
       "    </tr>\n",
       "    <tr>\n",
       "      <th>2021-04-12</th>\n",
       "      <td>131.240005</td>\n",
       "      <td>127.156075</td>\n",
       "    </tr>\n",
       "    <tr>\n",
       "      <th>2021-04-13</th>\n",
       "      <td>134.429993</td>\n",
       "      <td>128.541214</td>\n",
       "    </tr>\n",
       "    <tr>\n",
       "      <th>2021-04-14</th>\n",
       "      <td>132.029999</td>\n",
       "      <td>130.013855</td>\n",
       "    </tr>\n",
       "    <tr>\n",
       "      <th>2021-04-15</th>\n",
       "      <td>134.500000</td>\n",
       "      <td>130.949356</td>\n",
       "    </tr>\n",
       "  </tbody>\n",
       "</table>\n",
       "<p>517 rows × 2 columns</p>\n",
       "</div>"
      ],
      "text/plain": [
       "                 Close  Predictions\n",
       "Date                               \n",
       "2019-03-28   47.180000    48.706352\n",
       "2019-03-29   47.487499    48.660744\n",
       "2019-04-01   47.810001    48.649662\n",
       "2019-04-02   48.505001    48.699337\n",
       "2019-04-03   48.837502    48.864986\n",
       "...                ...          ...\n",
       "2021-04-09  133.000000   125.411545\n",
       "2021-04-12  131.240005   127.156075\n",
       "2021-04-13  134.429993   128.541214\n",
       "2021-04-14  132.029999   130.013855\n",
       "2021-04-15  134.500000   130.949356\n",
       "\n",
       "[517 rows x 2 columns]"
      ]
     },
     "execution_count": 100,
     "metadata": {
      "tags": []
     },
     "output_type": "execute_result"
    }
   ],
   "source": [
    "# show actual and predicted price\n",
    "valid"
   ]
  },
  {
   "cell_type": "code",
   "execution_count": 101,
   "metadata": {
    "colab": {
     "base_uri": "https://localhost:8080/"
    },
    "id": "i_uBRIrLp6vX",
    "outputId": "5b9e0eff-1b1c-44a0-a34a-304918a869c3"
   },
   "outputs": [
    {
     "name": "stdout",
     "output_type": "stream",
     "text": [
      "Predict Close Price of Apple:  125.41154\n",
      "Actual Close Price of Apple:  133\n",
      "RMSE =  7.588462829589844\n"
     ]
    }
   ],
   "source": [
    "# Get the data\n",
    "data = web.DataReader('AAPL', data_source='yahoo', start='2011-04-08', end='2021-4-08')\n",
    "# new data frame\n",
    "new_df = data.filter(['Close'])\n",
    "# get last 60 days value\n",
    "new_df = new_df[-60:]\n",
    "# convert it to array\n",
    "new_df = new_df.values\n",
    "# scale them\n",
    "new_df_scale = scaler.transform(new_df)\n",
    "# create empty list\n",
    "test = []\n",
    "# append scaler data in it\n",
    "test.append(new_df_scale)\n",
    "# convert it to numpy\n",
    "test = np.array(test)\n",
    "# reshape it in 3D\n",
    "test = np.reshape(test, (test.shape[0], test.shape[1], 1))\n",
    "# predict\n",
    "pred_price = model.predict(test)\n",
    "# unscaled it\n",
    "pred_price = scaler.inverse_transform(pred_price)\n",
    "print(\"Predict Close Price of Apple: \",pred_price[0][0])\n",
    "\n",
    "latest_data = web.DataReader('AAPL', data_source='yahoo', start='2021-04-09', end='2021-4-09')\n",
    "latest_df = latest_data.filter(['Close']).values\n",
    "print(\"Actual Close Price of Apple: \",latest_df[0][0])\n",
    "rmse = np.sqrt( np.mean( pred_price - latest_df )**2 )\n",
    "print(\"RMSE = \", rmse)"
   ]
  },
  {
   "cell_type": "code",
   "execution_count": 101,
   "metadata": {
    "id": "PVyiqj6Sx2dV"
   },
   "outputs": [],
   "source": [
    "    "
   ]
  }
 ],
 "metadata": {
  "colab": {
   "collapsed_sections": [],
   "name": "stock_prediction.ipynb",
   "provenance": []
  },
  "kernelspec": {
   "display_name": "Python 3",
   "language": "python",
   "name": "python3"
  },
  "language_info": {
   "codemirror_mode": {
    "name": "ipython",
    "version": 3
   },
   "file_extension": ".py",
   "mimetype": "text/x-python",
   "name": "python",
   "nbconvert_exporter": "python",
   "pygments_lexer": "ipython3",
   "version": "3.7.4"
  }
 },
 "nbformat": 4,
 "nbformat_minor": 1
}
